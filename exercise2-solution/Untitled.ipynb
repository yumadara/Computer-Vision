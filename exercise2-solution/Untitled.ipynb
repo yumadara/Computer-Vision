{
 "cells": [
  {
   "cell_type": "code",
   "execution_count": null,
   "metadata": {},
   "outputs": [],
   "source": [
    "def find_peak(data,query,radius):\n",
    "    shift=np.inf\n",
    "    \n",
    "    while shift>0.1:\n",
    "        dist=np.linalg.norm(data-query,axis=1)\n",
    "        query_old=query\n",
    "        query=np.mean(data[dist<=radius],axis=0)\n",
    "        shift=np.linalg.norm(query-query_old)\n",
    "        \n",
    "    return query\n"
   ]
  },
  {
   "cell_type": "code",
   "execution_count": 2,
   "metadata": {},
   "outputs": [],
   "source": [
    "def mean_shift(data,radius):\n",
    "    labels=np.full(len(data),fill_value=-1,dtype=int)\n",
    "    peaks=np.empty(data.shape)\n",
    "    n_peaks=0\n",
    "    \n",
    "    for idx,query in enumerate(data):\n",
    "        peak=find_peak(data,query,radius)\n",
    "        label=None\n",
    "        \n",
    "        if n_peaks>0:\n",
    "            dist=np.linalg.norm(peaks[:n_peaks]-peak,axis=1)\n",
    "            label_of_nearest_peak=np.argmin(dist)\n",
    "            \n",
    "            if dist[label_of_nearest_peak]<radius/2:\n",
    "                label=label_of_nearest_peak\n",
    "                \n",
    "        if label is None:\n",
    "            label=n_peaks\n",
    "            peaks[label]=peak\n",
    "            n_peaks+=1\n",
    "            \n",
    "        labels[idx]=label\n",
    "        \n",
    "    peaks=peaks[:n_peaks]\n",
    "    return peaks,labels"
   ]
  },
  {
   "cell_type": "code",
   "execution_count": null,
   "metadata": {},
   "outputs": [],
   "source": []
  }
 ],
 "metadata": {
  "kernelspec": {
   "display_name": "Python 3",
   "language": "python",
   "name": "python3"
  },
  "language_info": {
   "codemirror_mode": {
    "name": "ipython",
    "version": 3
   },
   "file_extension": ".py",
   "mimetype": "text/x-python",
   "name": "python",
   "nbconvert_exporter": "python",
   "pygments_lexer": "ipython3",
   "version": "3.7.6"
  }
 },
 "nbformat": 4,
 "nbformat_minor": 4
}
