{
 "cells": [
  {
   "cell_type": "markdown",
   "metadata": {},
   "source": [
    "# 2D Structure Extraction (Hough Transform)\n",
    "In this exercise, we will implement a Hough transform in order to detect parametric curves, such as lines or circles.\n",
    "In the following, we shortly review the motivation for this technique.\n",
    "\n",
    "Consider the point $p=(\\mathtt{x},\\mathtt{y})$ and the equation for a line $y = mx+c$. What are the lines that could pass through $p$?\n",
    "The answer is simple: all the lines for which $m$ and $c$ satisfy $\\mathtt{y} = m\\mathtt{x}+c$.\n",
    "Regarding $(\\mathtt{x},\\mathtt{y})$ as fixed, the last equation is that of a line in $(m,c)$-space.\n",
    "Repeating this reasoning, a second point $p'=(\\mathtt{x}',\\mathtt{y}')$ will also have an associated line in parameter space, and the two lines will intersect at the point $(\\tilde{m},\\tilde{c})$, which corresponds to the line connecting $p$ and $p'$.\n",
    "\n",
    "In order to find lines in the input image, we can thus pursue the following approach.\n",
    "We start with an empty accumulator array quantizing the parameter space for $m$ and $c$.\n",
    "For each edge pixel in the input image, we then draw a line in the accumulator array and increment the corresponding cells.\n",
    "Edge pixels on the same line in the input image will produce intersecting lines in $(m,c)$-space and will thus reinforce the intersection point.\n",
    "Maxima in this array thus correspond to lines in the input image that many edge pixels agree on.\n",
    "\n",
    "In practice, the parametrization in terms of $m$ and $c$ is problematic, since the slope $m$ may become infinite.\n",
    "Instead, we use the following parametrization in polar coordinates:\n",
    "\\begin{equation}\n",
    "\t\\mathtt{x}\\cos\\theta + \\mathtt{y}\\sin\\theta = \\rho \\label{eq:hough_line}\n",
    "\\end{equation}\n",
    "This produces a sinusoidal curve in $(\\rho,\\theta)$-space, but otherwise the procedure is unchanged.\n",
    "\n",
    "The following sub-questions will guide you through the steps of building a Hough transform."
   ]
  },
  {
   "cell_type": "code",
   "execution_count": 2,
   "metadata": {},
   "outputs": [],
   "source": [
    "%matplotlib notebook\n",
    "import numpy as np\n",
    "import matplotlib.pyplot as plt\n",
    "import imageio\n",
    "import cv2"
   ]
  },
  {
   "cell_type": "markdown",
   "metadata": {},
   "source": [
    "## Part a\n",
    "Build up an accumulator array ``acc`` for the parameter space $(\\rho, \\theta)$. $\\theta$ ranges from $-\\pi/2$ to $\\pi/2$, and $\\rho$ ranges from $-D$ to $D$, where $D$ denotes the length of the image diagonal.\n",
    "Use ``n_bins_rho`` and ``n_bins_theta`` as the number of bins in each direction.\n",
    "Initially, the array should be filled with zeros.\n",
    "\n",
    "For each edge pixel in the input image, create the corresponding curve in $(\\rho, \\theta)$ space by evaluating above line equation for all values of $\\theta$ and increment the corresponding cells of the accumulator array."
   ]
  },
  {
   "cell_type": "code",
   "execution_count": 3,
   "metadata": {
    "deletable": false,
    "nbgrader": {
     "cell_type": "code",
     "checksum": "89731e5d5936cdcb4479b74138e76547",
     "grade": true,
     "grade_id": "cell-200580483b10b07d",
     "locked": false,
     "points": 0,
     "schema_version": 3,
     "solution": true
    }
   },
   "outputs": [],
   "source": [
    "def hough_transform(edge_image, n_bins_rho, n_bins_theta):\n",
    "    # Vote accumulator\n",
    "    votes = np.zeros((n_bins_rho, n_bins_theta), dtype=np.int)  \n",
    "    \n",
    "    # Create bins\n",
    "    diag = np.linalg.norm(edge_image.shape)  # Length of image diagonal\n",
    "    theta_bins = np.linspace(-np.pi / 2, np.pi / 2, n_bins_theta)\n",
    "    rho_bins = np.linspace(-diag, diag, n_bins_rho)\n",
    "    \n",
    "    # YOUR CODE HERE\n",
    "    for x in range(edge_image.shape[1]):\n",
    "        for y in range(edge_image.shape[0]):\n",
    "            for i in range(len(theta_bins)-2):\n",
    "                theta=theta_bins[i]\n",
    "                d=int(x*np.cos(theta)+y*np.sin(theta))\n",
    "                d_index=int((d+diag)/n_bins_rho)\n",
    "                votes[i][d_index]+=1\n",
    "    #raise NotImplementedError()\n",
    "    return votes, rho_bins, theta_bins"
   ]
  },
  {
   "cell_type": "markdown",
   "metadata": {},
   "source": [
    "Test the implementation on an example image. Visualize the resulting Hough space by displaying it as a 2D image."
   ]
  },
  {
   "cell_type": "code",
   "execution_count": null,
   "metadata": {},
   "outputs": [],
   "source": [
    "color_im = imageio.imread('gantrycrane.png')\n",
    "gray_im = cv2.cvtColor(color_im, cv2.COLOR_RGB2GRAY)\n",
    "\n",
    "# Get edges using Canny\n",
    "blurred = cv2.GaussianBlur(gray_im, None, sigmaX=2)\n",
    "edges = cv2.Canny(blurred, threshold1=30, threshold2=90)  # 30, 90 are manually tunned\n",
    "\n",
    "hough_space, rho_bins, theta_bins = hough_transform(edges, n_bins_rho=300, n_bins_theta=300)\n",
    "\n",
    "fig, axes = plt.subplots(1, 3, figsize=(12, 4))\n",
    "axes[0].imshow(color_im)\n",
    "axes[0].set_title('Image')\n",
    "axes[1].imshow(edges, cmap='gray')\n",
    "axes[1].set_title('Edges')\n",
    "axes[2].imshow(hough_space)\n",
    "axes[2].set_title('Hough space')\n",
    "axes[2].set_xlabel('theta (index)')\n",
    "axes[2].set_ylabel('rho (index)')\n",
    "fig.tight_layout()"
   ]
  },
  {
   "cell_type": "markdown",
   "metadata": {},
   "source": [
    "## Part b\n",
    "Write a function ``nms2d`` which suppresses all points in the Hough space that are not local maxima.\n",
    "This can be achieved by looking at the 8 direct neighbors of each pixel and keeping only pixels whose value is greater than all its neighbors.\n",
    "This function is simpler than the non-maximum suppression from the Canny Edge Detector since it does not take into account local gradients."
   ]
  },
  {
   "cell_type": "code",
   "execution_count": null,
   "metadata": {
    "deletable": false,
    "nbgrader": {
     "cell_type": "code",
     "checksum": "770b8cf5acaed04edd82b0ffc02b0f33",
     "grade": true,
     "grade_id": "cell-6d4f7f4681882539",
     "locked": false,
     "points": 0,
     "schema_version": 3,
     "solution": true
    }
   },
   "outputs": [],
   "source": [
    "def nms2d(hough_array):\n",
    "    hough_array_out = np.zeros_like(hough_array)\n",
    "    \n",
    "    # YOUR CODE HERE\n",
    "    #raise NotImplementedError()\n",
    "    # YOUR CODE HERE\n",
    "    offsets_x = [-1, -1, 0, 1, 1, 1, 0, -1]\n",
    "    offsets_y = [0, -1, -1, -1, 0, 1, 1, 1]    \n",
    "    for x in range(hough_array.shape[1]):\n",
    "        for y in range(hough_array.shape[0]):\n",
    "            \n",
    "            criterium=1\n",
    "                \n",
    "            for ox, oy in zip(offsets_x, offsets_y):\n",
    "            # Note: `visited` is already False for points\n",
    "            # below the low threshold.\n",
    "                new_x=x+ox\n",
    "                new_y=y+oy\n",
    "            \n",
    "               \n",
    "                if new_x<hough_array.shape[1] and new_y<hough_array.shape[0]:\n",
    "                    if hough_array[y][x]<hough_array[new_y][new_x]:\n",
    "                        criterium=0\n",
    "            if not criterium:\n",
    "                hough_array_out[y][x]=hough_array[y][x]          \n",
    "    return hough_array_out"
   ]
  },
  {
   "cell_type": "markdown",
   "metadata": {},
   "source": [
    "Write a function ``find_hough_peaks`` that takes the result of ``hough_transform`` as an argument, finds the extrema in Hough space using ``nms2d`` and returns the index of all points $(\\rho_i, \\theta_i)$ for which the corresponding Hough value is greater than ``threshold``."
   ]
  },
  {
   "cell_type": "code",
   "execution_count": null,
   "metadata": {
    "deletable": false,
    "nbgrader": {
     "cell_type": "code",
     "checksum": "6520d406691716d45763bf95f03539ca",
     "grade": true,
     "grade_id": "cell-9eda7cc46c4f7235",
     "locked": false,
     "points": 0,
     "schema_version": 3,
     "solution": true
    }
   },
   "outputs": [],
   "source": [
    "def find_hough_peaks(hough_space, threshold):\n",
    "    # YOUR CODE HERE\n",
    "    \n",
    "    hough_out= (nms2d(hough_space)>threshold)\n",
    "    temp_rho=[]\n",
    "    temp_theta=[]\n",
    "    for x in range(hough_out.shape[1]):\n",
    "        for y in range(hough_out.shape[0]):\n",
    "            if hough_out[y][x]:\n",
    "                temp_rho.append(x)\n",
    "                temp_theta.append(y)\n",
    "                \n",
    "    \n",
    "    result_rho=np.asarray(temp_rho)\n",
    "    result_theta=np.asarray(temp_theta)\n",
    "    return result_rho,result_theta\n",
    "    #raise NotImplementedError()"
   ]
  },
  {
   "cell_type": "code",
   "execution_count": null,
   "metadata": {},
   "outputs": [],
   "source": [
    "def plot_hough_lines(image, rho, theta):\n",
    "    # compute start and ending point of the line x*cos(theta)+y*sin(theta)=rho\n",
    "    x0, x1 = 0, image.shape[1] - 1\n",
    "    y0 = rho / np.sin(theta)\n",
    "    y1 = (rho - x1 * np.cos(theta)) / np.sin(theta)\n",
    "\n",
    "    # Check out this page for more drawing function in OpenCV:\n",
    "    # https://docs.opencv.org/3.1.0/dc/da5/tutorial_py_drawing_functions.html\n",
    "    for yy0, yy1 in zip(y0, y1):\n",
    "        cv2.line(image, (x0, int(yy0)), (x1, int(yy1)), color=(255, 0, 0), thickness=1)\n",
    "\n",
    "    return image"
   ]
  },
  {
   "cell_type": "markdown",
   "metadata": {},
   "source": [
    "Try your implementation on the images ``gantrycrane.png`` and ``circuit.png``.\n",
    "Do you find all the lines?"
   ]
  },
  {
   "cell_type": "markdown",
   "metadata": {
    "deletable": false,
    "nbgrader": {
     "cell_type": "markdown",
     "checksum": "971c537821efadcef5385ea1afb88fd7",
     "grade": true,
     "grade_id": "cell-d064767a3ee9e94f",
     "locked": false,
     "points": 0,
     "schema_version": 3,
     "solution": true
    }
   },
   "source": [
    "YOUR ANSWER HERE:"
   ]
  },
  {
   "cell_type": "code",
   "execution_count": null,
   "metadata": {},
   "outputs": [],
   "source": [
    "# Find maximum\n",
    "rho_max_idx, theta_max_idx = find_hough_peaks(hough_space, 200)\n",
    "print(f'gantrycrane.png: found {len(rho_max_idx)} lines in the image.')\n",
    "rho_max, theta_max = rho_bins[rho_max_idx], theta_bins[theta_max_idx]\n",
    "\n",
    "color_image = imageio.imread('gantrycrane.png')\n",
    "image_with_lines = plot_hough_lines(color_image, rho_max, theta_max)\n",
    "\n",
    "# Plot\n",
    "fig, ax = plt.subplots(figsize=(8, 4))\n",
    "ax.imshow(image_with_lines)"
   ]
  },
  {
   "cell_type": "code",
   "execution_count": null,
   "metadata": {},
   "outputs": [],
   "source": [
    "# Try another image\n",
    "im = imageio.imread('circuit.png')\n",
    "\n",
    "blurred = cv2.GaussianBlur(im, None, sigmaX=2)\n",
    "edge = cv2.Canny(blurred, threshold1=30, threshold2=90)\n",
    "hough_space, rho_bins, theta_bins = hough_transform(edge, n_bins_rho=300, n_bins_theta=300)\n",
    "\n",
    "# Find maximum\n",
    "rho_max_idx, theta_max_idx = find_hough_peaks(hough_space, 100)\n",
    "print(f'circuit.png: found {len(rho_max_idx)} lines in the image.')\n",
    "rho_max, theta_max = rho_bins[rho_max_idx], theta_bins[theta_max_idx]\n",
    "color_image = cv2.cvtColor(im, cv2.COLOR_GRAY2RGB)\n",
    "image_with_lines = plot_hough_lines(color_image, rho_max, theta_max)\n",
    "\n",
    "# Plot\n",
    "fig, ax = plt.subplots(figsize=(8, 4))\n",
    "ax.imshow(image_with_lines)\n",
    "fig.tight_layout()"
   ]
  },
  {
   "cell_type": "markdown",
   "metadata": {},
   "source": [
    "## Part c (bonus)\n",
    "\n",
    "The Hough transform is a general technique that can not only be applied to lines, but also to other parametric curves, such as circles.\n",
    "In the following, we will show how the implementation can be extended to finding circles.\n",
    "\n",
    "A circle can be parameterized by the following equation:\n",
    "$$\t\n",
    "    (\\mathtt{x}-a)^2 + (\\mathtt{y}-b)^2 = r^2. \\label{eq:hough_circle}\n",
    "$$\n",
    "\n",
    "Unfortunately, the computation and memory requirements for the Hough transform increase exponentially with the number of parameters.\n",
    "While a 3D search space is still just feasible, we can dramatically reduce the amount of computation by integrating the gradient direction in the algorithm.\n",
    "\n",
    "Without gradient information, all values $a, b$ lying on the cone given by above equation are incremented.\n",
    "With the gradient information, we only need to increment points on an arc centered at $(a, b)$:\n",
    "$$\n",
    "\\begin{eqnarray}\n",
    "\ta &=& x + r\\cos\\phi\\\\\n",
    "\tb &=& y + r\\sin\\phi,\n",
    "\\end{eqnarray}\n",
    "$$\n",
    "where $\\phi$ is the gradient angle returned by the edge operator.\n",
    "\n",
    "Create a function ``hough_circle`` which implements the Hough transform for circles.\n",
    "Try your implementation for a practical application of counting coins in an image.\n",
    "You can use the images ``coins1.png`` and ``coins2.png`` for testing."
   ]
  },
  {
   "cell_type": "code",
   "execution_count": null,
   "metadata": {
    "deletable": false,
    "nbgrader": {
     "cell_type": "code",
     "checksum": "3f536f36e46b4aee218ff2c215245188",
     "grade": true,
     "grade_id": "cell-a5dacf84fd9a91bf",
     "locked": false,
     "points": 0,
     "schema_version": 3,
     "solution": true,
     "task": false
    }
   },
   "outputs": [],
   "source": [
    "# YOUR CODE HERE\n",
    "raise NotImplementedError()"
   ]
  },
  {
   "cell_type": "markdown",
   "metadata": {},
   "source": [
    "## Pard d (bonus)\n",
    "The same trick (as in **Part c**) of using the image gradient can be used for lines.\n",
    "Modify the code from **Part a** to only vote for one line per edge pixel, instead of all the lines running through this pixel."
   ]
  },
  {
   "cell_type": "code",
   "execution_count": null,
   "metadata": {
    "deletable": false,
    "nbgrader": {
     "cell_type": "code",
     "checksum": "467a127fdea81ed2a5a555c9a3bb8b93",
     "grade": true,
     "grade_id": "cell-e382b415b74d990b",
     "locked": false,
     "points": 0,
     "schema_version": 3,
     "solution": true,
     "task": false
    }
   },
   "outputs": [],
   "source": [
    "# YOUR CODE HERE\n",
    "raise NotImplementedError()"
   ]
  },
  {
   "cell_type": "markdown",
   "metadata": {},
   "source": [
    "## Part e (bonus)\n",
    "Can you build an online coin classification and counting system?\n",
    "\n",
    "You can take a look at the ``Haribo classification`` demo (MATLAB) in the Moodle for some ideas. Use the functions you wrote in the previous questions.\n",
    "(Hint: you may need to include a reference shape in the picture in order to obtain the absolute scale)."
   ]
  },
  {
   "cell_type": "code",
   "execution_count": null,
   "metadata": {
    "deletable": false,
    "nbgrader": {
     "cell_type": "code",
     "checksum": "29b7e00c0630052ea82f55bccf4abb06",
     "grade": true,
     "grade_id": "cell-44df0dca84e96cbb",
     "locked": false,
     "points": 0,
     "schema_version": 3,
     "solution": true,
     "task": false
    }
   },
   "outputs": [],
   "source": [
    "# YOUR CODE HERE\n",
    "raise NotImplementedError()"
   ]
  }
 ],
 "metadata": {
  "kernelspec": {
   "display_name": "Python 3",
   "language": "python",
   "name": "python3"
  },
  "language_info": {
   "codemirror_mode": {
    "name": "ipython",
    "version": 3
   },
   "file_extension": ".py",
   "mimetype": "text/x-python",
   "name": "python",
   "nbconvert_exporter": "python",
   "pygments_lexer": "ipython3",
   "version": "3.7.6"
  }
 },
 "nbformat": 4,
 "nbformat_minor": 2
}
